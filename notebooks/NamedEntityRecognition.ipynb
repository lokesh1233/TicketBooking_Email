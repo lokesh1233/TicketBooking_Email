{
 "cells": [
  {
   "cell_type": "code",
   "execution_count": 19,
   "metadata": {},
   "outputs": [],
   "source": [
    "import os\n",
    "import re\n",
    "import nltk\n",
    "import codecs\n",
    "import string\n",
    "import subprocess\n",
    "import unicodedata"
   ]
  },
  {
   "cell_type": "code",
   "execution_count": 20,
   "metadata": {},
   "outputs": [
    {
     "name": "stdout",
     "output_type": "stream",
     "text": [
      "51\n"
     ]
    }
   ],
   "source": [
    "__file__ = os.getcwd()\n",
    "BASE = os.path.join(os.path.dirname(__file__))\n",
    "CORPOUS = os.path.join(BASE, \"data\", \"raw\", \"Email\")\n",
    "\n",
    "DOCS = os.path.join(BASE, \"data\", \"raw\", \"Email\")\n",
    "def get_documents(path=DOCS):\n",
    "    \"\"\"\n",
    "    Returns a filtered list of paths to PDF files representing our corpus.\n",
    "    \"\"\"\n",
    "    for name in os.listdir(path):\n",
    "        if name.endswith('.msg'):\n",
    "            yield os.path.join(path, name)\n",
    "# Print the total number of documents\n",
    "print(len(list(get_documents())))\n",
    "\n",
    "\n"
   ]
  },
  {
   "cell_type": "code",
   "execution_count": 21,
   "metadata": {},
   "outputs": [
    {
     "ename": "NameError",
     "evalue": "name 'CORPUS' is not defined",
     "output_type": "error",
     "traceback": [
      "\u001b[1;31m---------------------------------------------------------------------------\u001b[0m",
      "\u001b[1;31mNameError\u001b[0m                                 Traceback (most recent call last)",
      "\u001b[1;32m~\\jupyter works\\Emails_Booking\\notebooks\u001b[0m in \u001b[0;36m<module>\u001b[1;34m\u001b[0m\n\u001b[1;32m----> 1\u001b[1;33m \u001b[1;32mdef\u001b[0m \u001b[0mextract_corpus\u001b[0m\u001b[1;33m(\u001b[0m\u001b[0mdocs\u001b[0m\u001b[1;33m=\u001b[0m\u001b[0mDOCS\u001b[0m\u001b[1;33m,\u001b[0m \u001b[0mcorpus\u001b[0m\u001b[1;33m=\u001b[0m\u001b[0mCORPUS\u001b[0m\u001b[1;33m)\u001b[0m\u001b[1;33m:\u001b[0m\u001b[1;33m\u001b[0m\u001b[1;33m\u001b[0m\u001b[0m\n\u001b[0m\u001b[0;32m      2\u001b[0m \u001b[1;33m\u001b[0m\u001b[0m\n\u001b[0;32m      3\u001b[0m     \u001b[1;31m# Create corpus directory if it doesn't exist.\u001b[0m\u001b[1;33m\u001b[0m\u001b[1;33m\u001b[0m\u001b[1;33m\u001b[0m\u001b[0m\n\u001b[0;32m      4\u001b[0m     \u001b[1;32mif\u001b[0m \u001b[1;32mnot\u001b[0m \u001b[0mos\u001b[0m\u001b[1;33m.\u001b[0m\u001b[0mpath\u001b[0m\u001b[1;33m.\u001b[0m\u001b[0mexists\u001b[0m\u001b[1;33m(\u001b[0m\u001b[0mcorpus\u001b[0m\u001b[1;33m)\u001b[0m\u001b[1;33m:\u001b[0m\u001b[1;33m\u001b[0m\u001b[1;33m\u001b[0m\u001b[0m\n\u001b[0;32m      5\u001b[0m         \u001b[0mos\u001b[0m\u001b[1;33m.\u001b[0m\u001b[0mmkdir\u001b[0m\u001b[1;33m(\u001b[0m\u001b[0mcorpus\u001b[0m\u001b[1;33m)\u001b[0m\u001b[1;33m\u001b[0m\u001b[1;33m\u001b[0m\u001b[0m\n",
      "\u001b[1;31mNameError\u001b[0m: name 'CORPUS' is not defined"
     ]
    }
   ],
   "source": [
    "def extract_corpus(docs=DOCS, corpus=CORPUS):\n",
    "    \n",
    "    # Create corpus directory if it doesn't exist.\n",
    "    if not os.path.exists(corpus):\n",
    "        os.mkdir(corpus)\n",
    "    \n"
   ]
  },
  {
   "cell_type": "code",
   "execution_count": 6,
   "metadata": {},
   "outputs": [
    {
     "data": {
      "text/plain": [
       "'C:\\\\Users\\\\Lokesh\\\\jupyter works\\\\Emails_Booking\\\\data\\\\raw\\\\Email'"
      ]
     },
     "execution_count": 6,
     "metadata": {},
     "output_type": "execute_result"
    }
   ],
   "source": [
    "DOCS"
   ]
  },
  {
   "cell_type": "code",
   "execution_count": null,
   "metadata": {},
   "outputs": [],
   "source": []
  },
  {
   "cell_type": "code",
   "execution_count": null,
   "metadata": {},
   "outputs": [],
   "source": []
  },
  {
   "cell_type": "code",
   "execution_count": null,
   "metadata": {},
   "outputs": [],
   "source": []
  },
  {
   "cell_type": "code",
   "execution_count": 8,
   "metadata": {},
   "outputs": [
    {
     "ename": "ModuleNotFoundError",
     "evalue": "No module named 'nltk'",
     "output_type": "error",
     "traceback": [
      "\u001b[1;31m---------------------------------------------------------------------------\u001b[0m",
      "\u001b[1;31mModuleNotFoundError\u001b[0m                       Traceback (most recent call last)",
      "\u001b[1;32m~\\jupyter works\\Emails_Booking\\notebooks\u001b[0m in \u001b[0;36m<module>\u001b[1;34m\u001b[0m\n\u001b[0;32m      1\u001b[0m \u001b[1;32mimport\u001b[0m \u001b[0mre\u001b[0m\u001b[1;33m\u001b[0m\u001b[1;33m\u001b[0m\u001b[0m\n\u001b[1;32m----> 2\u001b[1;33m \u001b[1;32mimport\u001b[0m \u001b[0mnltk\u001b[0m\u001b[1;33m\u001b[0m\u001b[1;33m\u001b[0m\u001b[0m\n\u001b[0m\u001b[0;32m      3\u001b[0m \u001b[1;32mimport\u001b[0m \u001b[0mcodecs\u001b[0m\u001b[1;33m\u001b[0m\u001b[1;33m\u001b[0m\u001b[0m\n\u001b[0;32m      4\u001b[0m \u001b[1;32mimport\u001b[0m \u001b[0mstring\u001b[0m\u001b[1;33m\u001b[0m\u001b[1;33m\u001b[0m\u001b[0m\n\u001b[0;32m      5\u001b[0m \u001b[1;32mimport\u001b[0m \u001b[0msubprocess\u001b[0m\u001b[1;33m\u001b[0m\u001b[1;33m\u001b[0m\u001b[0m\n",
      "\u001b[1;31mModuleNotFoundError\u001b[0m: No module named 'nltk'"
     ]
    }
   ],
   "source": [
    "\n",
    "## Create a path to extract the corpus.\n",
    "CORPUS = os.path.join(BASE, \"data\", \"corpus\")\n",
    "def extract_corpus(docs=DOCS, corpus=CORPUS):\n",
    "    \"\"\"\n",
    "    Extracts a text corpus from the PDF documents and writes them to disk.\n",
    "    \"\"\"\n",
    "    # Create corpus directory if it doesn't exist.\n",
    "    if not os.path.exists(corpus):\n",
    "        os.mkdir(corpus)\n",
    "    # For each PDF path, use pdf2txt to extract the text file.\n",
    "    for path in get_documents(docs):\n",
    "        # Call the subprocess command (must be on your path)\n",
    "        document = subprocess.check_output(\n",
    "            ['pdf2txt.py', path]\n",
    "        )\n",
    "        # Encode UTF-u and remove non-printable characters\n",
    "        document = filter(\n",
    "            lambda char: char in string.printable,\n",
    "            unicodedata.normalize('NFKD', document.decode('utf-8'))\n",
    "        )\n",
    "        # Write the document out to the corpus directory\n",
    "        fname = os.path.splitext(os.path.basename(path))[0] + \".txt\"\n",
    "        outpath = os.path.join(corpus, fname)\n",
    "        with codecs.open(outpath, 'w') as f:\n",
    "            f.write(document)\n",
    "# Run the extraction\n",
    "extract_corpus()"
   ]
  },
  {
   "cell_type": "code",
   "execution_count": 9,
   "metadata": {},
   "outputs": [
    {
     "name": "stdout",
     "output_type": "stream",
     "text": [
      "Collecting nltk\n",
      "  Downloading https://files.pythonhosted.org/packages/6f/ed/9c755d357d33bc1931e157f537721efb5b88d2c583fe593cc09603076cc3/nltk-3.4.zip (1.4MB)\n",
      "Requirement already satisfied: six in c:\\users\\lokesh\\appdata\\local\\programs\\python\\python36\\lib\\site-packages (from nltk) (1.11.0)\n",
      "Collecting singledispatch (from nltk)\n",
      "  Downloading https://files.pythonhosted.org/packages/c5/10/369f50bcd4621b263927b0a1519987a04383d4a98fb10438042ad410cf88/singledispatch-3.4.0.3-py2.py3-none-any.whl\n",
      "Building wheels for collected packages: nltk\n",
      "  Running setup.py bdist_wheel for nltk: started\n",
      "  Running setup.py bdist_wheel for nltk: finished with status 'done'\n",
      "  Stored in directory: C:\\Users\\Lokesh\\AppData\\Local\\pip\\Cache\\wheels\\4b\\c8\\24\\b2343664bcceb7147efeb21c0b23703a05b23fcfeaceaa2a1e\n",
      "Successfully built nltk\n",
      "Installing collected packages: singledispatch, nltk\n",
      "Successfully installed nltk-3.4 singledispatch-3.4.0.3\n"
     ]
    }
   ],
   "source": [
    "!pip install nltk"
   ]
  },
  {
   "cell_type": "code",
   "execution_count": 22,
   "metadata": {},
   "outputs": [
    {
     "name": "stdout",
     "output_type": "stream",
     "text": [
      "[('Andrew', 'PERSON'), ('Chinese', 'GPE'), ('American', 'GPE'), ('Baidu', 'ORGANIZATION'), (\"company's Artificial Intelligence Group\", 'ORGANIZATION'), ('Stanford University', 'ORGANIZATION'), ('Coursera', 'ORGANIZATION'), ('Andrew', 'PERSON'), ('Hong Kong', 'GPE')]\n"
     ]
    },
    {
     "data": {
      "text/plain": [
       "[('Andrew', 'PERSON'),\n",
       " ('Chinese', 'GPE'),\n",
       " ('American', 'GPE'),\n",
       " ('Baidu', 'ORGANIZATION'),\n",
       " ('Artificial Intelligence Group', 'ORGANIZATION'),\n",
       " ('Stanford University', 'ORGANIZATION'),\n",
       " ('Coursera', 'ORGANIZATION'),\n",
       " ('Andrew', 'PERSON'),\n",
       " ('Hong Kong', 'GPE')]"
      ]
     },
     "execution_count": 22,
     "metadata": {},
     "output_type": "execute_result"
    }
   ],
   "source": [
    "import nltk\n",
    "doc = '''Andrew Yan-Tak Ng is a Chinese American computer scientist.\n",
    "He is the former chief scientist at Baidu, where he led the company's\n",
    "Artificial Intelligence Group. He is an adjunct professor (formerly \n",
    "associate professor) at Stanford University. Ng is also the co-founder\n",
    "and chairman at Coursera, an online education platform. Andrew was born\n",
    "in the UK in 1976. His parents were both from Hong Kong.'''\n",
    "# tokenize doc\n",
    "tokenized_doc = nltk.word_tokenize(doc)\n",
    " \n",
    "# tag sentences and use nltk's Named Entity Chunker\n",
    "tagged_sentences = nltk.pos_tag(tokenized_doc)\n",
    "ne_chunked_sents = nltk.ne_chunk(tagged_sentences)\n",
    " \n",
    "# extract all named entities\n",
    "named_entities = []\n",
    "for tagged_tree in ne_chunked_sents:\n",
    "    if hasattr(tagged_tree, 'label'):\n",
    "        entity_name = ' '.join(c[0] for c in tagged_tree.leaves()) #\n",
    "        entity_type = tagged_tree.label() # get NE category\n",
    "        named_entities.append((entity_name, entity_type))\n",
    "print(named_entities)\n",
    " \n",
    "[('Andrew', 'PERSON'), ('Chinese', 'GPE'), ('American', 'GPE'), \n",
    "('Baidu', 'ORGANIZATION'), ('Artificial Intelligence Group', 'ORGANIZATION'),\n",
    "('Stanford University', 'ORGANIZATION'), ('Coursera', 'ORGANIZATION'),\n",
    "('Andrew', 'PERSON'), ('Hong Kong', 'GPE')]"
   ]
  },
  {
   "cell_type": "code",
   "execution_count": null,
   "metadata": {},
   "outputs": [],
   "source": []
  },
  {
   "cell_type": "code",
   "execution_count": 25,
   "metadata": {},
   "outputs": [],
   "source": [
    "doc = '''From: Reservations\n",
    "     To: mythili.s1@tcs.com\n",
    "   Date: 11/20/2018 8:03:18 AM\n",
    "Subject: Incredible Royal Escapes Winter 2018 Offer - Draft\n",
    "-----------------------------------------------------------\n",
    "We are pleased to assist you with the best rates and room category\n",
    "available for the requested dates.\n",
    "\n",
    " \n",
    "\n",
    "Incredible Royal Escapes Winter 2018 Offer\n",
    "\n",
    " \n",
    "\n",
    "Incredible Royal Escape\n",
    "\n",
    "Double Occupancy \n",
    "\n",
    " \n",
    "\n",
    "Travel Dates \n",
    "\n",
    "Room Category\n",
    "\n",
    " \n",
    "\n",
    "Taj Mahal Hotel New Delhi\n",
    "\n",
    "12th to 14th March 2019\n",
    "\n",
    "Taj Club Room City Or Pool View King Bed\n",
    "\n",
    " \n",
    "\n",
    "Taj Lake Palace Udaipur\n",
    "\n",
    "14th to 15th March 2019\n",
    "\n",
    "Luxury Room Garden Non Lake View Double Bed\n",
    "\n",
    " \n",
    "\n",
    "Umaid Bhawan Palace Jodhpur\n",
    "\n",
    "15th to 16th March 2019\n",
    "\n",
    "Palace Room King Bed\n",
    "\n",
    " \n",
    "\n",
    "Rambagh Palace Jaipur\n",
    "\n",
    "20th to 22nd March 2019\n",
    "\n",
    "Palace Room Garden or Courtyard View\n",
    "\n",
    " \n",
    "\n",
    "\t \n",
    "\n",
    "TOTAL AMOUNT\n",
    "\n",
    " \n",
    "\n",
    " \n",
    "\n",
    "INR 3,26,861/- inclusive of taxes for 6 nights stay\n",
    "\n",
    " \n",
    "\n",
    "Inclusions:\n",
    "\n",
    " \n",
    "\n",
    "*         Minimum 6 nights stay \n",
    "\n",
    " \n",
    "\n",
    "*         Offer includes accommodation , breakfast and 15% discount on\n",
    "food and soft beverages & Spa treatments\n",
    "\n",
    " \n",
    "\n",
    "*         Daily Yoga sessions\n",
    "\n",
    " \n",
    "\n",
    "*         Stays can be extended on a pro-rata basis beyond the minimum\n",
    "stipulated 6 nights\n",
    "\n",
    " \n",
    "\n",
    "\t \n",
    "\n",
    "*         CANCELLATION POLICY - Reservations must be cancelled by 2pm -\n",
    "30 days prior to arrival to avoid a penalty of full stay plus taxes.\n",
    "\n",
    " \n",
    "\n",
    "*\tCredit card details required within 72 hours of processing the\n",
    "reservation (depending upon the day the reservation is processed)\n",
    "*\tNo show charge is 100 % of full stay'''"
   ]
  },
  {
   "cell_type": "code",
   "execution_count": 37,
   "metadata": {},
   "outputs": [],
   "source": [
    "doc = '''From: Reservations\n",
    "     To: mythili.s1@tcs.com\n",
    "   Date: 11/20/2018 8:03:18 AM\n",
    "Subject: Incredible Royal Escapes Winter 2018 Offer - Draft\n",
    "\n",
    "We are pleased to assist you with the best rates and room category\n",
    "available for the requested dates.\n",
    "\n",
    "Incredible Royal Escapes Winter 2018 Offer\n",
    "\n",
    "Incredible Royal Escape\n",
    "Double Occupancy \n",
    "\n",
    "Travel Dates \n",
    "Room Category\n",
    "\n",
    "Taj Mahal Hotel New Delhi\n",
    "12th to 14th March 2019\n",
    "Taj Club Room City Or Pool View King Bed\n",
    " \n",
    "Taj Lake Palace Udaipur\n",
    "14th to 15th March 2019\n",
    "Luxury Room Garden Non Lake View Double Bed\n",
    "\n",
    "Umaid Bhawan Palace Jodhpur\n",
    "15th to 16th March 2019\n",
    "Palace Room King Bed\n",
    "\n",
    "Rambagh Palace Jaipur\n",
    "20th to 22nd March 2019\n",
    "Palace Room Garden or Courtyard View\n",
    "'''"
   ]
  },
  {
   "cell_type": "code",
   "execution_count": 38,
   "metadata": {},
   "outputs": [
    {
     "name": "stdout",
     "output_type": "stream",
     "text": [
      "[('Royal Escapes', 'ORGANIZATION'), ('Offer', 'GPE'), ('Incredible Royal Escapes', 'PERSON'), ('Escape Double Occupancy Travel Dates Room Category Taj Mahal Hotel New', 'PERSON'), ('Luxury Room Garden Non Lake View Double Bed Umaid Bhawan Palace', 'ORGANIZATION'), ('Palace Room', 'FACILITY'), ('Rambagh Palace', 'PERSON'), ('Palace Room Garden', 'FACILITY'), ('Courtyard View', 'ORGANIZATION')]\n"
     ]
    }
   ],
   "source": [
    "import nltk\n",
    "# tokenize doc\n",
    "tokenized_doc = nltk.word_tokenize(doc)\n",
    " \n",
    "# tag sentences and use nltk's Named Entity Chunker\n",
    "tagged_sentences = nltk.pos_tag(tokenized_doc)\n",
    "ne_chunked_sents = nltk.ne_chunk(tagged_sentences)\n",
    " \n",
    "# extract all named entities\n",
    "named_entities = []\n",
    "for tagged_tree in ne_chunked_sents:\n",
    "    if hasattr(tagged_tree, 'label'):\n",
    "        entity_name = ' '.join(c[0] for c in tagged_tree.leaves()) #\n",
    "        entity_type = tagged_tree.label() # get NE category\n",
    "        named_entities.append((entity_name, entity_type))\n",
    "print(named_entities)\n"
   ]
  },
  {
   "cell_type": "code",
   "execution_count": 27,
   "metadata": {},
   "outputs": [],
   "source": [
    "tokenized_doc = nltk.word_tokenize(doc)"
   ]
  },
  {
   "cell_type": "code",
   "execution_count": 29,
   "metadata": {},
   "outputs": [],
   "source": [
    "tagged_sentences = nltk.pos_tag(tokenized_doc)"
   ]
  },
  {
   "cell_type": "code",
   "execution_count": 31,
   "metadata": {},
   "outputs": [],
   "source": [
    "ne_chunked_sents = nltk.ne_chunk(tagged_sentences)"
   ]
  },
  {
   "cell_type": "code",
   "execution_count": 32,
   "metadata": {},
   "outputs": [
    {
     "ename": "LookupError",
     "evalue": "\n\n===========================================================================\nNLTK was unable to find the gs file!\nUse software specific configuration paramaters or set the PATH environment variable.\n===========================================================================",
     "output_type": "error",
     "traceback": [
      "\u001b[1;31m---------------------------------------------------------------------------\u001b[0m",
      "\u001b[1;31mLookupError\u001b[0m                               Traceback (most recent call last)",
      "\u001b[1;32mc:\\users\\lokesh\\appdata\\local\\programs\\python\\python36\\lib\\site-packages\\IPython\\core\\formatters.py\u001b[0m in \u001b[0;36m__call__\u001b[1;34m(self, obj)\u001b[0m\n\u001b[0;32m    343\u001b[0m             \u001b[0mmethod\u001b[0m \u001b[1;33m=\u001b[0m \u001b[0mget_real_method\u001b[0m\u001b[1;33m(\u001b[0m\u001b[0mobj\u001b[0m\u001b[1;33m,\u001b[0m \u001b[0mself\u001b[0m\u001b[1;33m.\u001b[0m\u001b[0mprint_method\u001b[0m\u001b[1;33m)\u001b[0m\u001b[1;33m\u001b[0m\u001b[1;33m\u001b[0m\u001b[0m\n\u001b[0;32m    344\u001b[0m             \u001b[1;32mif\u001b[0m \u001b[0mmethod\u001b[0m \u001b[1;32mis\u001b[0m \u001b[1;32mnot\u001b[0m \u001b[1;32mNone\u001b[0m\u001b[1;33m:\u001b[0m\u001b[1;33m\u001b[0m\u001b[1;33m\u001b[0m\u001b[0m\n\u001b[1;32m--> 345\u001b[1;33m                 \u001b[1;32mreturn\u001b[0m \u001b[0mmethod\u001b[0m\u001b[1;33m(\u001b[0m\u001b[1;33m)\u001b[0m\u001b[1;33m\u001b[0m\u001b[1;33m\u001b[0m\u001b[0m\n\u001b[0m\u001b[0;32m    346\u001b[0m             \u001b[1;32mreturn\u001b[0m \u001b[1;32mNone\u001b[0m\u001b[1;33m\u001b[0m\u001b[1;33m\u001b[0m\u001b[0m\n\u001b[0;32m    347\u001b[0m         \u001b[1;32melse\u001b[0m\u001b[1;33m:\u001b[0m\u001b[1;33m\u001b[0m\u001b[1;33m\u001b[0m\u001b[0m\n",
      "\u001b[1;32mc:\\users\\lokesh\\appdata\\local\\programs\\python\\python36\\lib\\site-packages\\nltk\\tree.py\u001b[0m in \u001b[0;36m_repr_png_\u001b[1;34m(self)\u001b[0m\n\u001b[0;32m    795\u001b[0m                         \u001b[0mbinary_names\u001b[0m\u001b[1;33m=\u001b[0m\u001b[1;33m[\u001b[0m\u001b[1;34m'gswin32c.exe'\u001b[0m\u001b[1;33m,\u001b[0m \u001b[1;34m'gswin64c.exe'\u001b[0m\u001b[1;33m]\u001b[0m\u001b[1;33m,\u001b[0m\u001b[1;33m\u001b[0m\u001b[1;33m\u001b[0m\u001b[0m\n\u001b[0;32m    796\u001b[0m                         \u001b[0menv_vars\u001b[0m\u001b[1;33m=\u001b[0m\u001b[1;33m[\u001b[0m\u001b[1;34m'PATH'\u001b[0m\u001b[1;33m]\u001b[0m\u001b[1;33m,\u001b[0m\u001b[1;33m\u001b[0m\u001b[1;33m\u001b[0m\u001b[0m\n\u001b[1;32m--> 797\u001b[1;33m                         \u001b[0mverbose\u001b[0m\u001b[1;33m=\u001b[0m\u001b[1;32mFalse\u001b[0m\u001b[1;33m,\u001b[0m\u001b[1;33m\u001b[0m\u001b[1;33m\u001b[0m\u001b[0m\n\u001b[0m\u001b[0;32m    798\u001b[0m                     )\n\u001b[0;32m    799\u001b[0m                 ]\n",
      "\u001b[1;32mc:\\users\\lokesh\\appdata\\local\\programs\\python\\python36\\lib\\site-packages\\nltk\\internals.py\u001b[0m in \u001b[0;36mfind_binary\u001b[1;34m(name, path_to_bin, env_vars, searchpath, binary_names, url, verbose)\u001b[0m\n\u001b[0;32m    694\u001b[0m     return next(\n\u001b[0;32m    695\u001b[0m         find_binary_iter(\n\u001b[1;32m--> 696\u001b[1;33m             \u001b[0mname\u001b[0m\u001b[1;33m,\u001b[0m \u001b[0mpath_to_bin\u001b[0m\u001b[1;33m,\u001b[0m \u001b[0menv_vars\u001b[0m\u001b[1;33m,\u001b[0m \u001b[0msearchpath\u001b[0m\u001b[1;33m,\u001b[0m \u001b[0mbinary_names\u001b[0m\u001b[1;33m,\u001b[0m \u001b[0murl\u001b[0m\u001b[1;33m,\u001b[0m \u001b[0mverbose\u001b[0m\u001b[1;33m\u001b[0m\u001b[1;33m\u001b[0m\u001b[0m\n\u001b[0m\u001b[0;32m    697\u001b[0m         )\n\u001b[0;32m    698\u001b[0m     )\n",
      "\u001b[1;32mc:\\users\\lokesh\\appdata\\local\\programs\\python\\python36\\lib\\site-packages\\nltk\\internals.py\u001b[0m in \u001b[0;36mfind_binary_iter\u001b[1;34m(name, path_to_bin, env_vars, searchpath, binary_names, url, verbose)\u001b[0m\n\u001b[0;32m    678\u001b[0m     \"\"\"\n\u001b[0;32m    679\u001b[0m     for file in find_file_iter(\n\u001b[1;32m--> 680\u001b[1;33m         \u001b[0mpath_to_bin\u001b[0m \u001b[1;32mor\u001b[0m \u001b[0mname\u001b[0m\u001b[1;33m,\u001b[0m \u001b[0menv_vars\u001b[0m\u001b[1;33m,\u001b[0m \u001b[0msearchpath\u001b[0m\u001b[1;33m,\u001b[0m \u001b[0mbinary_names\u001b[0m\u001b[1;33m,\u001b[0m \u001b[0murl\u001b[0m\u001b[1;33m,\u001b[0m \u001b[0mverbose\u001b[0m\u001b[1;33m\u001b[0m\u001b[1;33m\u001b[0m\u001b[0m\n\u001b[0m\u001b[0;32m    681\u001b[0m     ):\n\u001b[0;32m    682\u001b[0m         \u001b[1;32myield\u001b[0m \u001b[0mfile\u001b[0m\u001b[1;33m\u001b[0m\u001b[1;33m\u001b[0m\u001b[0m\n",
      "\u001b[1;32mc:\\users\\lokesh\\appdata\\local\\programs\\python\\python36\\lib\\site-packages\\nltk\\internals.py\u001b[0m in \u001b[0;36mfind_file_iter\u001b[1;34m(filename, env_vars, searchpath, file_names, url, verbose, finding_dir)\u001b[0m\n\u001b[0;32m    636\u001b[0m             \u001b[0mmsg\u001b[0m \u001b[1;33m+=\u001b[0m \u001b[1;34m'\\n\\n  For more information on %s, see:\\n    <%s>'\u001b[0m \u001b[1;33m%\u001b[0m \u001b[1;33m(\u001b[0m\u001b[0mfilename\u001b[0m\u001b[1;33m,\u001b[0m \u001b[0murl\u001b[0m\u001b[1;33m)\u001b[0m\u001b[1;33m\u001b[0m\u001b[1;33m\u001b[0m\u001b[0m\n\u001b[0;32m    637\u001b[0m         \u001b[0mdiv\u001b[0m \u001b[1;33m=\u001b[0m \u001b[1;34m'='\u001b[0m \u001b[1;33m*\u001b[0m \u001b[1;36m75\u001b[0m\u001b[1;33m\u001b[0m\u001b[1;33m\u001b[0m\u001b[0m\n\u001b[1;32m--> 638\u001b[1;33m         \u001b[1;32mraise\u001b[0m \u001b[0mLookupError\u001b[0m\u001b[1;33m(\u001b[0m\u001b[1;34m'\\n\\n%s\\n%s\\n%s'\u001b[0m \u001b[1;33m%\u001b[0m \u001b[1;33m(\u001b[0m\u001b[0mdiv\u001b[0m\u001b[1;33m,\u001b[0m \u001b[0mmsg\u001b[0m\u001b[1;33m,\u001b[0m \u001b[0mdiv\u001b[0m\u001b[1;33m)\u001b[0m\u001b[1;33m)\u001b[0m\u001b[1;33m\u001b[0m\u001b[1;33m\u001b[0m\u001b[0m\n\u001b[0m\u001b[0;32m    639\u001b[0m \u001b[1;33m\u001b[0m\u001b[0m\n\u001b[0;32m    640\u001b[0m \u001b[1;33m\u001b[0m\u001b[0m\n",
      "\u001b[1;31mLookupError\u001b[0m: \n\n===========================================================================\nNLTK was unable to find the gs file!\nUse software specific configuration paramaters or set the PATH environment variable.\n==========================================================================="
     ]
    },
    {
     "data": {
      "text/plain": [
       "Tree('S', [('From', 'IN'), (':', ':'), ('Reservations', 'NNS'), ('To', 'TO'), (':', ':'), ('mythili.s1', 'NN'), ('@', 'NNP'), ('tcs.com', 'NN'), ('Date', 'NNP'), (':', ':'), ('11/20/2018', 'CD'), ('8:03:18', 'CD'), ('AM', 'NNP'), ('Subject', 'JJ'), (':', ':'), ('Incredible', 'JJ'), Tree('ORGANIZATION', [('Royal', 'NNP'), ('Escapes', 'NNP')]), ('Winter', 'NNP'), ('2018', 'CD'), Tree('GPE', [('Offer', 'NNP')]), ('-', ':'), Tree('PERSON', [('Draft', 'NN')]), ('--', ':'), ('--', ':'), ('--', ':'), ('--', ':'), ('--', ':'), ('--', ':'), ('--', ':'), ('--', ':'), ('--', ':'), ('--', ':'), ('--', ':'), ('--', ':'), ('--', ':'), ('--', ':'), ('--', ':'), ('--', ':'), ('--', ':'), ('--', ':'), ('--', ':'), ('--', ':'), ('--', ':'), ('--', ':'), ('--', ':'), ('--', ':'), ('--', ':'), ('--', ':'), ('--', ':'), ('--', ':'), ('--', ':'), ('-', ':'), ('We', 'PRP'), ('are', 'VBP'), ('pleased', 'JJ'), ('to', 'TO'), ('assist', 'VB'), ('you', 'PRP'), ('with', 'IN'), ('the', 'DT'), ('best', 'JJS'), ('rates', 'NNS'), ('and', 'CC'), ('room', 'NN'), ('category', 'NN'), ('available', 'JJ'), ('for', 'IN'), ('the', 'DT'), ('requested', 'JJ'), ('dates', 'NNS'), ('.', '.'), Tree('PERSON', [('Incredible', 'JJ'), ('Royal', 'NNP'), ('Escapes', 'NNP')]), ('Winter', 'NNP'), ('2018', 'CD'), ('Offer', 'NNP'), ('Incredible', 'NNP'), ('Royal', 'NNP'), Tree('PERSON', [('Escape', 'NNP'), ('Double', 'NNP'), ('Occupancy', 'NNP'), ('Travel', 'NNP'), ('Dates', 'NNP'), ('Room', 'NNP'), ('Category', 'NNP'), ('Taj', 'NNP'), ('Mahal', 'NNP'), ('Hotel', 'NNP'), ('New', 'NNP')]), ('Delhi', 'NNP'), ('12th', 'CD'), ('to', 'TO'), ('14th', 'CD'), ('March', 'NNP'), ('2019', 'CD'), ('Taj', 'NNP'), ('Club', 'NNP'), ('Room', 'NNP'), ('City', 'NNP'), ('Or', 'NNP'), ('Pool', 'NNP'), ('View', 'NNP'), ('King', 'NNP'), ('Bed', 'NNP'), ('Taj', 'NNP'), ('Lake', 'NNP'), ('Palace', 'NNP'), ('Udaipur', 'NNP'), ('14th', 'CD'), ('to', 'TO'), ('15th', 'CD'), ('March', 'NNP'), ('2019', 'CD'), Tree('ORGANIZATION', [('Luxury', 'NNP'), ('Room', 'NNP'), ('Garden', 'NNP'), ('Non', 'NNP'), ('Lake', 'NNP'), ('View', 'NNP'), ('Double', 'NNP'), ('Bed', 'NNP'), ('Umaid', 'NNP'), ('Bhawan', 'NNP'), ('Palace', 'NNP')]), ('Jodhpur', 'NNP'), ('15th', 'CD'), ('to', 'TO'), ('16th', 'CD'), ('March', 'NNP'), ('2019', 'CD'), Tree('FACILITY', [('Palace', 'NNP'), ('Room', 'NNP')]), ('King', 'NNP'), ('Bed', 'NNP'), Tree('PERSON', [('Rambagh', 'NNP'), ('Palace', 'NNP')]), ('Jaipur', 'NNP'), ('20th', 'CD'), ('to', 'TO'), ('22nd', 'CD'), ('March', 'NNP'), ('2019', 'CD'), Tree('FACILITY', [('Palace', 'NNP'), ('Room', 'NNP'), ('Garden', 'NNP')]), ('or', 'CC'), Tree('ORGANIZATION', [('Courtyard', 'NNP'), ('View', 'NNP')]), Tree('ORGANIZATION', [('TOTAL', 'NNP')]), ('AMOUNT', 'NNP'), ('INR', 'NNP'), ('3,26,861/-', 'JJ'), ('inclusive', 'NN'), ('of', 'IN'), ('taxes', 'NNS'), ('for', 'IN'), ('6', 'CD'), ('nights', 'NNS'), ('stay', 'JJ'), ('Inclusions', 'NNS'), (':', ':'), ('*', 'VB'), ('Minimum', 'NNP'), ('6', 'CD'), ('nights', 'NNS'), ('stay', 'VBP'), ('*', 'JJ'), ('Offer', 'NNP'), ('includes', 'VBZ'), ('accommodation', 'NN'), (',', ','), ('breakfast', 'NN'), ('and', 'CC'), ('15', 'CD'), ('%', 'NN'), ('discount', 'NN'), ('on', 'IN'), ('food', 'NN'), ('and', 'CC'), ('soft', 'JJ'), ('beverages', 'NNS'), ('&', 'CC'), ('Spa', 'NNP'), ('treatments', 'NNS'), ('*', 'VBP'), Tree('PERSON', [('Daily', 'NNP'), ('Yoga', 'NNP')]), ('sessions', 'NNS'), ('*', 'VBP'), ('Stays', 'NNS'), ('can', 'MD'), ('be', 'VB'), ('extended', 'VBN'), ('on', 'IN'), ('a', 'DT'), ('pro-rata', 'JJ'), ('basis', 'NN'), ('beyond', 'IN'), ('the', 'DT'), ('minimum', 'JJ'), ('stipulated', 'VBD'), ('6', 'CD'), ('nights', 'NNS'), ('*', 'JJ'), Tree('ORGANIZATION', [('CANCELLATION', 'NNP')]), ('POLICY', 'NNP'), ('-', ':'), ('Reservations', 'NNS'), ('must', 'MD'), ('be', 'VB'), ('cancelled', 'VBN'), ('by', 'IN'), ('2pm', 'CD'), ('-', ':'), ('30', 'CD'), ('days', 'NNS'), ('prior', 'RB'), ('to', 'TO'), ('arrival', 'VB'), ('to', 'TO'), ('avoid', 'VB'), ('a', 'DT'), ('penalty', 'NN'), ('of', 'IN'), ('full', 'JJ'), ('stay', 'NN'), ('plus', 'CC'), ('taxes', 'NNS'), ('.', '.'), ('*', 'VB'), Tree('ORGANIZATION', [('Credit', 'NNP')]), ('card', 'NN'), ('details', 'NNS'), ('required', 'VBN'), ('within', 'IN'), ('72', 'CD'), ('hours', 'NNS'), ('of', 'IN'), ('processing', 'VBG'), ('the', 'DT'), ('reservation', 'NN'), ('(', '('), ('depending', 'VBG'), ('upon', 'IN'), ('the', 'DT'), ('day', 'NN'), ('the', 'DT'), ('reservation', 'NN'), ('is', 'VBZ'), ('processed', 'VBN'), (')', ')'), ('*', 'VBZ'), ('No', 'DT'), ('show', 'NN'), ('charge', 'NN'), ('is', 'VBZ'), ('100', 'CD'), ('%', 'NN'), ('of', 'IN'), ('full', 'JJ'), ('stay', 'NN')])"
      ]
     },
     "execution_count": 32,
     "metadata": {},
     "output_type": "execute_result"
    }
   ],
   "source": [
    "ne_chunked_sents"
   ]
  },
  {
   "cell_type": "code",
   "execution_count": 34,
   "metadata": {},
   "outputs": [
    {
     "name": "stdout",
     "output_type": "stream",
     "text": [
      "Help on built-in function hasattr in module builtins:\n",
      "\n",
      "hasattr(obj, name, /)\n",
      "    Return whether the object has an attribute with the given name.\n",
      "    \n",
      "    This is done by calling getattr(obj, name) and catching AttributeError.\n",
      "\n"
     ]
    }
   ],
   "source": [
    "help(hasattr)"
   ]
  },
  {
   "cell_type": "code",
   "execution_count": 35,
   "metadata": {},
   "outputs": [
    {
     "ename": "LookupError",
     "evalue": "\n\n===========================================================================\nNLTK was unable to find the gs file!\nUse software specific configuration paramaters or set the PATH environment variable.\n===========================================================================",
     "output_type": "error",
     "traceback": [
      "\u001b[1;31m---------------------------------------------------------------------------\u001b[0m",
      "\u001b[1;31mLookupError\u001b[0m                               Traceback (most recent call last)",
      "\u001b[1;32mc:\\users\\lokesh\\appdata\\local\\programs\\python\\python36\\lib\\site-packages\\IPython\\core\\formatters.py\u001b[0m in \u001b[0;36m__call__\u001b[1;34m(self, obj)\u001b[0m\n\u001b[0;32m    343\u001b[0m             \u001b[0mmethod\u001b[0m \u001b[1;33m=\u001b[0m \u001b[0mget_real_method\u001b[0m\u001b[1;33m(\u001b[0m\u001b[0mobj\u001b[0m\u001b[1;33m,\u001b[0m \u001b[0mself\u001b[0m\u001b[1;33m.\u001b[0m\u001b[0mprint_method\u001b[0m\u001b[1;33m)\u001b[0m\u001b[1;33m\u001b[0m\u001b[1;33m\u001b[0m\u001b[0m\n\u001b[0;32m    344\u001b[0m             \u001b[1;32mif\u001b[0m \u001b[0mmethod\u001b[0m \u001b[1;32mis\u001b[0m \u001b[1;32mnot\u001b[0m \u001b[1;32mNone\u001b[0m\u001b[1;33m:\u001b[0m\u001b[1;33m\u001b[0m\u001b[1;33m\u001b[0m\u001b[0m\n\u001b[1;32m--> 345\u001b[1;33m                 \u001b[1;32mreturn\u001b[0m \u001b[0mmethod\u001b[0m\u001b[1;33m(\u001b[0m\u001b[1;33m)\u001b[0m\u001b[1;33m\u001b[0m\u001b[1;33m\u001b[0m\u001b[0m\n\u001b[0m\u001b[0;32m    346\u001b[0m             \u001b[1;32mreturn\u001b[0m \u001b[1;32mNone\u001b[0m\u001b[1;33m\u001b[0m\u001b[1;33m\u001b[0m\u001b[0m\n\u001b[0;32m    347\u001b[0m         \u001b[1;32melse\u001b[0m\u001b[1;33m:\u001b[0m\u001b[1;33m\u001b[0m\u001b[1;33m\u001b[0m\u001b[0m\n",
      "\u001b[1;32mc:\\users\\lokesh\\appdata\\local\\programs\\python\\python36\\lib\\site-packages\\nltk\\tree.py\u001b[0m in \u001b[0;36m_repr_png_\u001b[1;34m(self)\u001b[0m\n\u001b[0;32m    795\u001b[0m                         \u001b[0mbinary_names\u001b[0m\u001b[1;33m=\u001b[0m\u001b[1;33m[\u001b[0m\u001b[1;34m'gswin32c.exe'\u001b[0m\u001b[1;33m,\u001b[0m \u001b[1;34m'gswin64c.exe'\u001b[0m\u001b[1;33m]\u001b[0m\u001b[1;33m,\u001b[0m\u001b[1;33m\u001b[0m\u001b[1;33m\u001b[0m\u001b[0m\n\u001b[0;32m    796\u001b[0m                         \u001b[0menv_vars\u001b[0m\u001b[1;33m=\u001b[0m\u001b[1;33m[\u001b[0m\u001b[1;34m'PATH'\u001b[0m\u001b[1;33m]\u001b[0m\u001b[1;33m,\u001b[0m\u001b[1;33m\u001b[0m\u001b[1;33m\u001b[0m\u001b[0m\n\u001b[1;32m--> 797\u001b[1;33m                         \u001b[0mverbose\u001b[0m\u001b[1;33m=\u001b[0m\u001b[1;32mFalse\u001b[0m\u001b[1;33m,\u001b[0m\u001b[1;33m\u001b[0m\u001b[1;33m\u001b[0m\u001b[0m\n\u001b[0m\u001b[0;32m    798\u001b[0m                     )\n\u001b[0;32m    799\u001b[0m                 ]\n",
      "\u001b[1;32mc:\\users\\lokesh\\appdata\\local\\programs\\python\\python36\\lib\\site-packages\\nltk\\internals.py\u001b[0m in \u001b[0;36mfind_binary\u001b[1;34m(name, path_to_bin, env_vars, searchpath, binary_names, url, verbose)\u001b[0m\n\u001b[0;32m    694\u001b[0m     return next(\n\u001b[0;32m    695\u001b[0m         find_binary_iter(\n\u001b[1;32m--> 696\u001b[1;33m             \u001b[0mname\u001b[0m\u001b[1;33m,\u001b[0m \u001b[0mpath_to_bin\u001b[0m\u001b[1;33m,\u001b[0m \u001b[0menv_vars\u001b[0m\u001b[1;33m,\u001b[0m \u001b[0msearchpath\u001b[0m\u001b[1;33m,\u001b[0m \u001b[0mbinary_names\u001b[0m\u001b[1;33m,\u001b[0m \u001b[0murl\u001b[0m\u001b[1;33m,\u001b[0m \u001b[0mverbose\u001b[0m\u001b[1;33m\u001b[0m\u001b[1;33m\u001b[0m\u001b[0m\n\u001b[0m\u001b[0;32m    697\u001b[0m         )\n\u001b[0;32m    698\u001b[0m     )\n",
      "\u001b[1;32mc:\\users\\lokesh\\appdata\\local\\programs\\python\\python36\\lib\\site-packages\\nltk\\internals.py\u001b[0m in \u001b[0;36mfind_binary_iter\u001b[1;34m(name, path_to_bin, env_vars, searchpath, binary_names, url, verbose)\u001b[0m\n\u001b[0;32m    678\u001b[0m     \"\"\"\n\u001b[0;32m    679\u001b[0m     for file in find_file_iter(\n\u001b[1;32m--> 680\u001b[1;33m         \u001b[0mpath_to_bin\u001b[0m \u001b[1;32mor\u001b[0m \u001b[0mname\u001b[0m\u001b[1;33m,\u001b[0m \u001b[0menv_vars\u001b[0m\u001b[1;33m,\u001b[0m \u001b[0msearchpath\u001b[0m\u001b[1;33m,\u001b[0m \u001b[0mbinary_names\u001b[0m\u001b[1;33m,\u001b[0m \u001b[0murl\u001b[0m\u001b[1;33m,\u001b[0m \u001b[0mverbose\u001b[0m\u001b[1;33m\u001b[0m\u001b[1;33m\u001b[0m\u001b[0m\n\u001b[0m\u001b[0;32m    681\u001b[0m     ):\n\u001b[0;32m    682\u001b[0m         \u001b[1;32myield\u001b[0m \u001b[0mfile\u001b[0m\u001b[1;33m\u001b[0m\u001b[1;33m\u001b[0m\u001b[0m\n",
      "\u001b[1;32mc:\\users\\lokesh\\appdata\\local\\programs\\python\\python36\\lib\\site-packages\\nltk\\internals.py\u001b[0m in \u001b[0;36mfind_file_iter\u001b[1;34m(filename, env_vars, searchpath, file_names, url, verbose, finding_dir)\u001b[0m\n\u001b[0;32m    636\u001b[0m             \u001b[0mmsg\u001b[0m \u001b[1;33m+=\u001b[0m \u001b[1;34m'\\n\\n  For more information on %s, see:\\n    <%s>'\u001b[0m \u001b[1;33m%\u001b[0m \u001b[1;33m(\u001b[0m\u001b[0mfilename\u001b[0m\u001b[1;33m,\u001b[0m \u001b[0murl\u001b[0m\u001b[1;33m)\u001b[0m\u001b[1;33m\u001b[0m\u001b[1;33m\u001b[0m\u001b[0m\n\u001b[0;32m    637\u001b[0m         \u001b[0mdiv\u001b[0m \u001b[1;33m=\u001b[0m \u001b[1;34m'='\u001b[0m \u001b[1;33m*\u001b[0m \u001b[1;36m75\u001b[0m\u001b[1;33m\u001b[0m\u001b[1;33m\u001b[0m\u001b[0m\n\u001b[1;32m--> 638\u001b[1;33m         \u001b[1;32mraise\u001b[0m \u001b[0mLookupError\u001b[0m\u001b[1;33m(\u001b[0m\u001b[1;34m'\\n\\n%s\\n%s\\n%s'\u001b[0m \u001b[1;33m%\u001b[0m \u001b[1;33m(\u001b[0m\u001b[0mdiv\u001b[0m\u001b[1;33m,\u001b[0m \u001b[0mmsg\u001b[0m\u001b[1;33m,\u001b[0m \u001b[0mdiv\u001b[0m\u001b[1;33m)\u001b[0m\u001b[1;33m)\u001b[0m\u001b[1;33m\u001b[0m\u001b[1;33m\u001b[0m\u001b[0m\n\u001b[0m\u001b[0;32m    639\u001b[0m \u001b[1;33m\u001b[0m\u001b[0m\n\u001b[0;32m    640\u001b[0m \u001b[1;33m\u001b[0m\u001b[0m\n",
      "\u001b[1;31mLookupError\u001b[0m: \n\n===========================================================================\nNLTK was unable to find the gs file!\nUse software specific configuration paramaters or set the PATH environment variable.\n==========================================================================="
     ]
    },
    {
     "data": {
      "text/plain": [
       "Tree('S', [('From', 'IN'), (':', ':'), ('Reservations', 'NNS'), ('To', 'TO'), (':', ':'), ('mythili.s1', 'NN'), ('@', 'NNP'), ('tcs.com', 'NN'), ('Date', 'NNP'), (':', ':'), ('11/20/2018', 'CD'), ('8:03:18', 'CD'), ('AM', 'NNP'), ('Subject', 'JJ'), (':', ':'), ('Incredible', 'JJ'), Tree('ORGANIZATION', [('Royal', 'NNP'), ('Escapes', 'NNP')]), ('Winter', 'NNP'), ('2018', 'CD'), Tree('GPE', [('Offer', 'NNP')]), ('-', ':'), Tree('PERSON', [('Draft', 'NN')]), ('--', ':'), ('--', ':'), ('--', ':'), ('--', ':'), ('--', ':'), ('--', ':'), ('--', ':'), ('--', ':'), ('--', ':'), ('--', ':'), ('--', ':'), ('--', ':'), ('--', ':'), ('--', ':'), ('--', ':'), ('--', ':'), ('--', ':'), ('--', ':'), ('--', ':'), ('--', ':'), ('--', ':'), ('--', ':'), ('--', ':'), ('--', ':'), ('--', ':'), ('--', ':'), ('--', ':'), ('--', ':'), ('--', ':'), ('-', ':'), ('We', 'PRP'), ('are', 'VBP'), ('pleased', 'JJ'), ('to', 'TO'), ('assist', 'VB'), ('you', 'PRP'), ('with', 'IN'), ('the', 'DT'), ('best', 'JJS'), ('rates', 'NNS'), ('and', 'CC'), ('room', 'NN'), ('category', 'NN'), ('available', 'JJ'), ('for', 'IN'), ('the', 'DT'), ('requested', 'JJ'), ('dates', 'NNS'), ('.', '.'), Tree('PERSON', [('Incredible', 'JJ'), ('Royal', 'NNP'), ('Escapes', 'NNP')]), ('Winter', 'NNP'), ('2018', 'CD'), ('Offer', 'NNP'), ('Incredible', 'NNP'), ('Royal', 'NNP'), Tree('PERSON', [('Escape', 'NNP'), ('Double', 'NNP'), ('Occupancy', 'NNP'), ('Travel', 'NNP'), ('Dates', 'NNP'), ('Room', 'NNP'), ('Category', 'NNP'), ('Taj', 'NNP'), ('Mahal', 'NNP'), ('Hotel', 'NNP'), ('New', 'NNP')]), ('Delhi', 'NNP'), ('12th', 'CD'), ('to', 'TO'), ('14th', 'CD'), ('March', 'NNP'), ('2019', 'CD'), ('Taj', 'NNP'), ('Club', 'NNP'), ('Room', 'NNP'), ('City', 'NNP'), ('Or', 'NNP'), ('Pool', 'NNP'), ('View', 'NNP'), ('King', 'NNP'), ('Bed', 'NNP'), ('Taj', 'NNP'), ('Lake', 'NNP'), ('Palace', 'NNP'), ('Udaipur', 'NNP'), ('14th', 'CD'), ('to', 'TO'), ('15th', 'CD'), ('March', 'NNP'), ('2019', 'CD'), Tree('ORGANIZATION', [('Luxury', 'NNP'), ('Room', 'NNP'), ('Garden', 'NNP'), ('Non', 'NNP'), ('Lake', 'NNP'), ('View', 'NNP'), ('Double', 'NNP'), ('Bed', 'NNP'), ('Umaid', 'NNP'), ('Bhawan', 'NNP'), ('Palace', 'NNP')]), ('Jodhpur', 'NNP'), ('15th', 'CD'), ('to', 'TO'), ('16th', 'CD'), ('March', 'NNP'), ('2019', 'CD'), Tree('FACILITY', [('Palace', 'NNP'), ('Room', 'NNP')]), ('King', 'NNP'), ('Bed', 'NNP'), Tree('PERSON', [('Rambagh', 'NNP'), ('Palace', 'NNP')]), ('Jaipur', 'NNP'), ('20th', 'CD'), ('to', 'TO'), ('22nd', 'CD'), ('March', 'NNP'), ('2019', 'CD'), Tree('FACILITY', [('Palace', 'NNP'), ('Room', 'NNP'), ('Garden', 'NNP')]), ('or', 'CC'), Tree('ORGANIZATION', [('Courtyard', 'NNP'), ('View', 'NNP')]), Tree('ORGANIZATION', [('TOTAL', 'NNP')]), ('AMOUNT', 'NNP'), ('INR', 'NNP'), ('3,26,861/-', 'JJ'), ('inclusive', 'NN'), ('of', 'IN'), ('taxes', 'NNS'), ('for', 'IN'), ('6', 'CD'), ('nights', 'NNS'), ('stay', 'JJ'), ('Inclusions', 'NNS'), (':', ':'), ('*', 'VB'), ('Minimum', 'NNP'), ('6', 'CD'), ('nights', 'NNS'), ('stay', 'VBP'), ('*', 'JJ'), ('Offer', 'NNP'), ('includes', 'VBZ'), ('accommodation', 'NN'), (',', ','), ('breakfast', 'NN'), ('and', 'CC'), ('15', 'CD'), ('%', 'NN'), ('discount', 'NN'), ('on', 'IN'), ('food', 'NN'), ('and', 'CC'), ('soft', 'JJ'), ('beverages', 'NNS'), ('&', 'CC'), ('Spa', 'NNP'), ('treatments', 'NNS'), ('*', 'VBP'), Tree('PERSON', [('Daily', 'NNP'), ('Yoga', 'NNP')]), ('sessions', 'NNS'), ('*', 'VBP'), ('Stays', 'NNS'), ('can', 'MD'), ('be', 'VB'), ('extended', 'VBN'), ('on', 'IN'), ('a', 'DT'), ('pro-rata', 'JJ'), ('basis', 'NN'), ('beyond', 'IN'), ('the', 'DT'), ('minimum', 'JJ'), ('stipulated', 'VBD'), ('6', 'CD'), ('nights', 'NNS'), ('*', 'JJ'), Tree('ORGANIZATION', [('CANCELLATION', 'NNP')]), ('POLICY', 'NNP'), ('-', ':'), ('Reservations', 'NNS'), ('must', 'MD'), ('be', 'VB'), ('cancelled', 'VBN'), ('by', 'IN'), ('2pm', 'CD'), ('-', ':'), ('30', 'CD'), ('days', 'NNS'), ('prior', 'RB'), ('to', 'TO'), ('arrival', 'VB'), ('to', 'TO'), ('avoid', 'VB'), ('a', 'DT'), ('penalty', 'NN'), ('of', 'IN'), ('full', 'JJ'), ('stay', 'NN'), ('plus', 'CC'), ('taxes', 'NNS'), ('.', '.'), ('*', 'VB'), Tree('ORGANIZATION', [('Credit', 'NNP')]), ('card', 'NN'), ('details', 'NNS'), ('required', 'VBN'), ('within', 'IN'), ('72', 'CD'), ('hours', 'NNS'), ('of', 'IN'), ('processing', 'VBG'), ('the', 'DT'), ('reservation', 'NN'), ('(', '('), ('depending', 'VBG'), ('upon', 'IN'), ('the', 'DT'), ('day', 'NN'), ('the', 'DT'), ('reservation', 'NN'), ('is', 'VBZ'), ('processed', 'VBN'), (')', ')'), ('*', 'VBZ'), ('No', 'DT'), ('show', 'NN'), ('charge', 'NN'), ('is', 'VBZ'), ('100', 'CD'), ('%', 'NN'), ('of', 'IN'), ('full', 'JJ'), ('stay', 'NN')])"
      ]
     },
     "execution_count": 35,
     "metadata": {},
     "output_type": "execute_result"
    }
   ],
   "source": [
    "ne_chunked_sents"
   ]
  },
  {
   "cell_type": "code",
   "execution_count": null,
   "metadata": {},
   "outputs": [],
   "source": [
    "import nltk\n",
    "\n",
    "with open('sample.txt', 'r') as f:\n",
    "    sample = f.read()\n",
    "     \n",
    "sentences = nltk.sent_tokenize(sample)\n",
    "tokenized_sentences = [nltk.word_tokenize(sentence) for sentence in sentences]\n",
    "tagged_sentences = [nltk.pos_tag(sentence) for sentence in tokenized_sentences]\n",
    "chunked_sentences = nltk.batch_ne_chunk(tagged_sentences, binary=True)\n",
    "\n",
    "def extract_entity_names(t):\n",
    "    entity_names = []\n",
    "    \n",
    "    if hasattr(t, 'node') and t.node:\n",
    "        if t.node == 'NE':\n",
    "            entity_names.append(' '.join([child[0] for child in t]))\n",
    "        else:\n",
    "            for child in t:\n",
    "                entity_names.extend(extract_entity_names(child))\n",
    "                \n",
    "    return entity_names\n",
    "\n",
    "entity_names = []\n",
    "for tree in chunked_sentences:\n",
    "    # Print results per sentence\n",
    "    # print extract_entity_names(tree)\n",
    "    \n",
    "    entity_names.extend(extract_entity_names(tree))\n",
    "\n",
    "# Print all entity names\n",
    "#print entity_names\n",
    "\n",
    "# Print unique entity names\n",
    "print set(entity_names)"
   ]
  }
 ],
 "metadata": {
  "kernelspec": {
   "display_name": "Python 3",
   "language": "python",
   "name": "python3"
  },
  "language_info": {
   "codemirror_mode": {
    "name": "ipython",
    "version": 3
   },
   "file_extension": ".py",
   "mimetype": "text/x-python",
   "name": "python",
   "nbconvert_exporter": "python",
   "pygments_lexer": "ipython3",
   "version": "3.6.7"
  }
 },
 "nbformat": 4,
 "nbformat_minor": 2
}
